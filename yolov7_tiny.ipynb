{
  "cells": [
    {
      "cell_type": "markdown",
      "metadata": {
        "id": "GD9gUQpaBxNa"
      },
      "source": [
        "# YOLOv7-tiny Model Training\n",
        "\n",
        "This Jupyter Notebook will guide you through training a [YOLOv7-tiny model](https://github.com/WongKinYiu/yolov7) using a Roboflow dataset."
      ]
    },
    {
      "cell_type": "markdown",
      "metadata": {},
      "source": [
        "## Change Directory\n",
        "All Bash commands in this notebook must be run from the `yolov7` directory."
      ]
    },
    {
      "cell_type": "code",
      "execution_count": null,
      "metadata": {},
      "outputs": [],
      "source": [
        "%cd yolov7"
      ]
    },
    {
      "cell_type": "markdown",
      "metadata": {},
      "source": [
        "## Check if GPU is CUDA enabled\n",
        "A CUDA-enabled GPU is required to train a YOLOv7 model."
      ]
    },
    {
      "cell_type": "code",
      "execution_count": null,
      "metadata": {
        "colab": {
          "base_uri": "https://localhost:8080/"
        },
        "id": "JGJspIl90XhV",
        "outputId": "b0cf4cac-5b18-47eb-b065-913e01993531"
      },
      "outputs": [],
      "source": [
        "!nvidia-smi"
      ]
    },
    {
      "cell_type": "markdown",
      "metadata": {
        "id": "7mGmQbAO5pQb"
      },
      "source": [
        "## Install Dependencies"
      ]
    },
    {
      "cell_type": "code",
      "execution_count": null,
      "metadata": {
        "colab": {
          "base_uri": "https://localhost:8080/"
        },
        "id": "nD-uPyQ_2jiN",
        "outputId": "73ae513b-c294-4119-d8fe-c137570f171d"
      },
      "outputs": [],
      "source": [
        "!pip install -r requirements.txt"
      ]
    },
    {
      "cell_type": "markdown",
      "metadata": {
        "id": "mtJ24mPlyF-S"
      },
      "source": [
        "# Download Dataset from Roboflow\n"
      ]
    },
    {
      "cell_type": "code",
      "execution_count": null,
      "metadata": {},
      "outputs": [],
      "source": [
        "!pip install roboflow\n",
        "from roboflow import Roboflow\n",
        "\n",
        "# Go to https://app.roboflow.com/settings/account.\n",
        "# Navigate to the desired workspace > Roboflow API and copy/paste your Private API Key.\n",
        "API_KEY = \"JFnIkl58tvZUFeL5MmtK\"\n",
        "\n",
        "# Navigate to the desired project version and copy/paste the following information from the URL:\n",
        "# https://app.roboflow.com/<WORKSPACE>/<PROJECT>/<VERSION>\n",
        "WORKSPACE = \"duke-robotics-club-2024\"\n",
        "PROJECT = \"gate_glyphs_2\"\n",
        "VERSION = 1\n",
        "\n",
        "# Download dataset\n",
        "rf = Roboflow(api_key=API_KEY)\n",
        "project = rf.workspace(WORKSPACE).project(PROJECT)\n",
        "dataset = project.version(VERSION).download(\"yolov7\")\n",
        "\n",
        "DATASET = f\"{PROJECT}-{VERSION}\"\n",
        "!echo {DATASET} >> ../.git/info/exclude # Add dataset to local gitignore"
      ]
    },
    {
      "cell_type": "markdown",
      "metadata": {
        "id": "bHfT9gEiBsBd"
      },
      "source": [
        "# Begin Training"
      ]
    },
    {
      "cell_type": "code",
      "execution_count": null,
      "metadata": {
        "colab": {
          "base_uri": "https://localhost:8080/",
          "height": 1000
        },
        "id": "1iqOPKjr22mL",
        "outputId": "a1eed054-dfdc-4ed2-c01f-2fc4996667e1"
      },
      "outputs": [],
      "source": [
        "NUM_EPOCHS = 60\n",
        "\n",
        "import wandb\n",
        "wandb.login()\n",
        "\n",
        "!python train.py --batch 16 --epochs {NUM_EPOCHS} --data {dataset.location}/data.yaml --weights '../yolov7_tiny.pt' --device 0 --img-size 416"
      ]
    },
    {
      "cell_type": "code",
      "execution_count": null,
      "metadata": {},
      "outputs": [],
      "source": []
    }
  ],
  "metadata": {
    "accelerator": "GPU",
    "colab": {
      "gpuClass": "premium",
      "machine_shape": "hm",
      "provenance": []
    },
    "gpuClass": "premium",
    "kernelspec": {
      "display_name": "Python 3",
      "name": "python3"
    },
    "language_info": {
      "codemirror_mode": {
        "name": "ipython",
        "version": 3
      },
      "file_extension": ".py",
      "mimetype": "text/x-python",
      "name": "python",
      "nbconvert_exporter": "python",
      "pygments_lexer": "ipython3",
      "version": "3.11.7"
    }
  },
  "nbformat": 4,
  "nbformat_minor": 0
}
